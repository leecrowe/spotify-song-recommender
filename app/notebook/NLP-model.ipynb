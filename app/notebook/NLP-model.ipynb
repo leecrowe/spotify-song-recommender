{
 "cells": [
  {
   "cell_type": "markdown",
   "id": "adb73ec4",
   "metadata": {},
   "source": [
    "## Import Package"
   ]
  },
  {
   "cell_type": "code",
   "execution_count": 19,
   "id": "306d6ead",
   "metadata": {},
   "outputs": [],
   "source": [
    "import re\n",
    "import joblib\n",
    "\n",
    "from sklearn.feature_extraction.text import TfidfVectorizer\n",
    "from sklearn.neighbors import NearestNeighbors\n",
    "import pandas as pd\n",
    "import numpy as np\n",
    "import spacy\n",
    "\n",
    "# import spacy model en_core_web_md\n",
    "nlp = spacy.load('en_core_web_md')"
   ]
  },
  {
   "cell_type": "markdown",
   "id": "5c544dcc",
   "metadata": {},
   "source": [
    "## Clean Data"
   ]
  },
  {
   "cell_type": "code",
   "execution_count": 20,
   "id": "ac0b5cfd",
   "metadata": {},
   "outputs": [],
   "source": [
    "df = pd.read_csv('../data/spotify_songs.csv')"
   ]
  },
  {
   "cell_type": "code",
   "execution_count": 21,
   "id": "7b90291f",
   "metadata": {},
   "outputs": [],
   "source": [
    "df.to_csv('../data/songs.gz', index=False, compression='gzip')"
   ]
  },
  {
   "cell_type": "code",
   "execution_count": 22,
   "id": "ab1b3b02",
   "metadata": {},
   "outputs": [],
   "source": [
    "def clean_data(songs):\n",
    "    \"\"\"\n",
    "    Input DataFrame\n",
    "    ---------\n",
    "    Return the new clean Data\n",
    "    \"\"\"\n",
    "    # Copy data frame so it won't alter the input\n",
    "    songs = songs.copy()\n",
    "    \n",
    "    # Drop NA\n",
    "    songs = songs.dropna()\n",
    "    \n",
    "    # Select song in English\n",
    "    songs = songs[songs['language']=='en']\n",
    "\n",
    "    # Get rid of dublicates song that have (feat) or -\n",
    "    songs['track_name'] = songs['track_name'].apply(lambda x: x.split('(')[0].strip())\n",
    "    songs['track_name'] = songs['track_name'].apply(lambda x: x.split('-')[0].strip())\n",
    "    \n",
    "    # Drop dublicates song that have the same name and artist\n",
    "    songs = songs.drop_duplicates(subset = ['track_name', 'track_artist'])\n",
    "    \n",
    "    # Subset the dataframe to only contain 3 columns. Reset index\n",
    "    songs = songs[['track_name', 'track_artist', 'lyrics']].reset_index()\n",
    "    \n",
    "    return songs.drop(columns='index')\n",
    "    \n",
    "# Create a new clean Data Frame\n",
    "spotify = clean_data(df)"
   ]
  },
  {
   "cell_type": "code",
   "execution_count": 23,
   "metadata": {},
   "outputs": [
    {
     "output_type": "execute_result",
     "data": {
      "text/plain": [
       "               track_name        track_artist  \\\n",
       "0            I Feel Alive       Steady Rollin   \n",
       "1                  Poison      Bell Biv DeVoe   \n",
       "2  Baby It's Cold Outside         CeeLo Green   \n",
       "3              Dumb Litty                KARD   \n",
       "4                 Soldier            James TW   \n",
       "5             Satisfy You               Diddy   \n",
       "6            Tender Lover            Babyface   \n",
       "7               Hide Away         Blasterjaxx   \n",
       "8               Limestone  Magic City Hippies   \n",
       "9                 Changes                2Pac   \n",
       "\n",
       "                                              lyrics  \n",
       "0  The trees, are singing in the wind The sky blu...  \n",
       "1  NA Yeah, Spyderman and Freeze in full effect U...  \n",
       "2  I really can't stay Baby it's cold outside I'v...  \n",
       "3  Get up out of my business You don't keep me fr...  \n",
       "4  Hold your breath, don't look down, keep trying...  \n",
       "5  All I want is somebody who's gonna love me for...  \n",
       "6  Feels good Everybody Tender lover Tender love ...  \n",
       "7  Don't run away, it's getting colder Our hearts...  \n",
       "8  How many friends are you gonna set on fire? Ho...  \n",
       "9  I see no changes, wake up in the morning and I...  "
      ],
      "text/html": "<div>\n<style scoped>\n    .dataframe tbody tr th:only-of-type {\n        vertical-align: middle;\n    }\n\n    .dataframe tbody tr th {\n        vertical-align: top;\n    }\n\n    .dataframe thead th {\n        text-align: right;\n    }\n</style>\n<table border=\"1\" class=\"dataframe\">\n  <thead>\n    <tr style=\"text-align: right;\">\n      <th></th>\n      <th>track_name</th>\n      <th>track_artist</th>\n      <th>lyrics</th>\n    </tr>\n  </thead>\n  <tbody>\n    <tr>\n      <th>0</th>\n      <td>I Feel Alive</td>\n      <td>Steady Rollin</td>\n      <td>The trees, are singing in the wind The sky blu...</td>\n    </tr>\n    <tr>\n      <th>1</th>\n      <td>Poison</td>\n      <td>Bell Biv DeVoe</td>\n      <td>NA Yeah, Spyderman and Freeze in full effect U...</td>\n    </tr>\n    <tr>\n      <th>2</th>\n      <td>Baby It's Cold Outside</td>\n      <td>CeeLo Green</td>\n      <td>I really can't stay Baby it's cold outside I'v...</td>\n    </tr>\n    <tr>\n      <th>3</th>\n      <td>Dumb Litty</td>\n      <td>KARD</td>\n      <td>Get up out of my business You don't keep me fr...</td>\n    </tr>\n    <tr>\n      <th>4</th>\n      <td>Soldier</td>\n      <td>James TW</td>\n      <td>Hold your breath, don't look down, keep trying...</td>\n    </tr>\n    <tr>\n      <th>5</th>\n      <td>Satisfy You</td>\n      <td>Diddy</td>\n      <td>All I want is somebody who's gonna love me for...</td>\n    </tr>\n    <tr>\n      <th>6</th>\n      <td>Tender Lover</td>\n      <td>Babyface</td>\n      <td>Feels good Everybody Tender lover Tender love ...</td>\n    </tr>\n    <tr>\n      <th>7</th>\n      <td>Hide Away</td>\n      <td>Blasterjaxx</td>\n      <td>Don't run away, it's getting colder Our hearts...</td>\n    </tr>\n    <tr>\n      <th>8</th>\n      <td>Limestone</td>\n      <td>Magic City Hippies</td>\n      <td>How many friends are you gonna set on fire? Ho...</td>\n    </tr>\n    <tr>\n      <th>9</th>\n      <td>Changes</td>\n      <td>2Pac</td>\n      <td>I see no changes, wake up in the morning and I...</td>\n    </tr>\n  </tbody>\n</table>\n</div>"
     },
     "metadata": {},
     "execution_count": 23
    }
   ],
   "source": [
    "spotify.head(10)"
   ]
  },
  {
   "cell_type": "code",
   "execution_count": 24,
   "id": "df744be0",
   "metadata": {},
   "outputs": [
    {
     "output_type": "stream",
     "name": "stdout",
     "text": [
      "<class 'pandas.core.frame.DataFrame'>\nRangeIndex: 12753 entries, 0 to 12752\nData columns (total 3 columns):\n #   Column        Non-Null Count  Dtype \n---  ------        --------------  ----- \n 0   track_name    12753 non-null  object\n 1   track_artist  12753 non-null  object\n 2   lyrics        12753 non-null  object\ndtypes: object(3)\nmemory usage: 299.0+ KB\n"
     ]
    }
   ],
   "source": [
    "spotify.info()"
   ]
  },
  {
   "cell_type": "code",
   "execution_count": 25,
   "id": "4e01a21e",
   "metadata": {},
   "outputs": [],
   "source": [
    "# Save the clean data into csv\n",
    "spotify.to_csv('../data/trimmed_spotify.csv', index=False)"
   ]
  },
  {
   "cell_type": "code",
   "execution_count": 26,
   "id": "666d9659",
   "metadata": {},
   "outputs": [],
   "source": [
    "def clean_text(text):\n",
    "    \"\"\"\n",
    "    Takes in text and returns a clean text which mean\n",
    "    Non-alphabet are filtered out. \n",
    "    Replace multi white spaces with single white space\n",
    "    \"\"\"\n",
    "    \n",
    "    # order of operations - apply the expression from top to bottom\n",
    "    non_alpha = '[^a-zA-Z]'\n",
    "    multi_white_spaces = \"[ ]{2,}\"\n",
    "\n",
    "    text = re.sub(non_alpha, ' ', text)\n",
    "    text = re.sub(multi_white_spaces, \" \", text)\n",
    "    \n",
    "    # apply case normalization \n",
    "    return text.lower().strip()"
   ]
  },
  {
   "cell_type": "code",
   "execution_count": 27,
   "id": "5db67073",
   "metadata": {},
   "outputs": [],
   "source": [
    "# Add new clean_lyrics col\n",
    "spotify['clean_lyrics'] = spotify['lyrics'].apply(clean_text)"
   ]
  },
  {
   "cell_type": "code",
   "execution_count": 28,
   "id": "82cf81ae",
   "metadata": {},
   "outputs": [
    {
     "output_type": "execute_result",
     "data": {
      "text/plain": [
       "               track_name    track_artist  \\\n",
       "0            I Feel Alive   Steady Rollin   \n",
       "1                  Poison  Bell Biv DeVoe   \n",
       "2  Baby It's Cold Outside     CeeLo Green   \n",
       "3              Dumb Litty            KARD   \n",
       "4                 Soldier        James TW   \n",
       "\n",
       "                                              lyrics  \\\n",
       "0  The trees, are singing in the wind The sky blu...   \n",
       "1  NA Yeah, Spyderman and Freeze in full effect U...   \n",
       "2  I really can't stay Baby it's cold outside I'v...   \n",
       "3  Get up out of my business You don't keep me fr...   \n",
       "4  Hold your breath, don't look down, keep trying...   \n",
       "\n",
       "                                        clean_lyrics  \n",
       "0  the trees are singing in the wind the sky blue...  \n",
       "1  na yeah spyderman and freeze in full effect uh...  \n",
       "2  i really can t stay baby it s cold outside i v...  \n",
       "3  get up out of my business you don t keep me fr...  \n",
       "4  hold your breath don t look down keep trying d...  "
      ],
      "text/html": "<div>\n<style scoped>\n    .dataframe tbody tr th:only-of-type {\n        vertical-align: middle;\n    }\n\n    .dataframe tbody tr th {\n        vertical-align: top;\n    }\n\n    .dataframe thead th {\n        text-align: right;\n    }\n</style>\n<table border=\"1\" class=\"dataframe\">\n  <thead>\n    <tr style=\"text-align: right;\">\n      <th></th>\n      <th>track_name</th>\n      <th>track_artist</th>\n      <th>lyrics</th>\n      <th>clean_lyrics</th>\n    </tr>\n  </thead>\n  <tbody>\n    <tr>\n      <th>0</th>\n      <td>I Feel Alive</td>\n      <td>Steady Rollin</td>\n      <td>The trees, are singing in the wind The sky blu...</td>\n      <td>the trees are singing in the wind the sky blue...</td>\n    </tr>\n    <tr>\n      <th>1</th>\n      <td>Poison</td>\n      <td>Bell Biv DeVoe</td>\n      <td>NA Yeah, Spyderman and Freeze in full effect U...</td>\n      <td>na yeah spyderman and freeze in full effect uh...</td>\n    </tr>\n    <tr>\n      <th>2</th>\n      <td>Baby It's Cold Outside</td>\n      <td>CeeLo Green</td>\n      <td>I really can't stay Baby it's cold outside I'v...</td>\n      <td>i really can t stay baby it s cold outside i v...</td>\n    </tr>\n    <tr>\n      <th>3</th>\n      <td>Dumb Litty</td>\n      <td>KARD</td>\n      <td>Get up out of my business You don't keep me fr...</td>\n      <td>get up out of my business you don t keep me fr...</td>\n    </tr>\n    <tr>\n      <th>4</th>\n      <td>Soldier</td>\n      <td>James TW</td>\n      <td>Hold your breath, don't look down, keep trying...</td>\n      <td>hold your breath don t look down keep trying d...</td>\n    </tr>\n  </tbody>\n</table>\n</div>"
     },
     "metadata": {},
     "execution_count": 28
    }
   ],
   "source": [
    "spotify.head()"
   ]
  },
  {
   "cell_type": "markdown",
   "id": "d7dc7970",
   "metadata": {},
   "source": [
    "## Model"
   ]
  },
  {
   "cell_type": "code",
   "execution_count": 29,
   "id": "3f3d29f0",
   "metadata": {},
   "outputs": [],
   "source": [
    "def tokenize(document):\n",
    "    \"\"\"\n",
    "    Takes a doc and returns a list of tokens in the form of lemmas.\n",
    "    Stop words and punctuation are filtered out. \n",
    "    \"\"\"\n",
    "    \n",
    "    doc = nlp(document)\n",
    "    \n",
    "    return [token.lemma_.strip() for token in doc if (token.is_stop != True) and (token.is_punct != True)]"
   ]
  },
  {
   "cell_type": "code",
   "execution_count": 30,
   "id": "36770f06",
   "metadata": {
    "scrolled": true
   },
   "outputs": [
    {
     "output_type": "execute_result",
     "data": {
      "text/plain": [
       "       act  afraid   ah  air     alive  alright  apart  arm       ask  \\\n",
       "0      0.0     0.0  0.0  0.0  0.339891      0.0    0.0  0.0  0.000000   \n",
       "1      0.0     0.0  0.0  0.0  0.000000      0.0    0.0  0.0  0.000000   \n",
       "2      0.0     0.0  0.0  0.0  0.000000      0.0    0.0  0.0  0.000000   \n",
       "3      0.0     0.0  0.0  0.0  0.000000      0.0    0.0  0.0  0.000000   \n",
       "4      0.0     0.0  0.0  0.0  0.000000      0.0    0.0  0.0  0.000000   \n",
       "...    ...     ...  ...  ...       ...      ...    ...  ...       ...   \n",
       "12748  0.0     0.0  0.0  0.0  0.000000      0.0    0.0  0.0  0.000000   \n",
       "12749  0.0     0.0  0.0  0.0  0.000000      0.0    0.0  0.0  0.000000   \n",
       "12750  0.0     0.0  0.0  0.0  0.000000      0.0    0.0  0.0  0.000000   \n",
       "12751  0.0     0.0  0.0  0.0  0.000000      0.0    0.0  0.0  0.000000   \n",
       "12752  0.0     0.0  0.0  0.0  0.000000      0.0    0.0  0.0  0.146763   \n",
       "\n",
       "            ass  ...  wouldn  write     wrong    x    y   ya  year  yes  \\\n",
       "0      0.000000  ...     0.0    0.0  0.000000  0.0  0.0  0.0   0.0  0.0   \n",
       "1      0.000000  ...     0.0    0.0  0.140815  0.0  0.0  0.0   0.0  0.0   \n",
       "2      0.000000  ...     0.0    0.0  0.000000  0.0  0.0  0.0   0.0  0.0   \n",
       "3      0.000000  ...     0.0    0.0  0.000000  0.0  0.0  0.0   0.0  0.0   \n",
       "4      0.000000  ...     0.0    0.0  0.000000  0.0  0.0  0.0   0.0  0.0   \n",
       "...         ...  ...     ...    ...       ...  ...  ...  ...   ...  ...   \n",
       "12748  0.154634  ...     0.0    0.0  0.000000  0.0  0.0  0.0   0.0  0.0   \n",
       "12749  0.000000  ...     0.0    0.0  0.000000  0.0  0.0  0.0   0.0  0.0   \n",
       "12750  0.000000  ...     0.0    0.0  0.000000  0.0  0.0  0.0   0.0  0.0   \n",
       "12751  0.000000  ...     0.0    0.0  0.000000  0.0  0.0  0.0   0.0  0.0   \n",
       "12752  0.000000  ...     0.0    0.0  0.000000  0.0  0.0  0.0   0.0  0.0   \n",
       "\n",
       "             yo     young  \n",
       "0      0.000000  0.000000  \n",
       "1      0.223397  0.000000  \n",
       "2      0.000000  0.000000  \n",
       "3      0.000000  0.000000  \n",
       "4      0.000000  0.000000  \n",
       "...         ...       ...  \n",
       "12748  0.000000  0.000000  \n",
       "12749  0.000000  0.000000  \n",
       "12750  0.000000  0.000000  \n",
       "12751  0.000000  0.269422  \n",
       "12752  0.000000  0.000000  \n",
       "\n",
       "[12753 rows x 422 columns]"
      ],
      "text/html": "<div>\n<style scoped>\n    .dataframe tbody tr th:only-of-type {\n        vertical-align: middle;\n    }\n\n    .dataframe tbody tr th {\n        vertical-align: top;\n    }\n\n    .dataframe thead th {\n        text-align: right;\n    }\n</style>\n<table border=\"1\" class=\"dataframe\">\n  <thead>\n    <tr style=\"text-align: right;\">\n      <th></th>\n      <th>act</th>\n      <th>afraid</th>\n      <th>ah</th>\n      <th>air</th>\n      <th>alive</th>\n      <th>alright</th>\n      <th>apart</th>\n      <th>arm</th>\n      <th>ask</th>\n      <th>ass</th>\n      <th>...</th>\n      <th>wouldn</th>\n      <th>write</th>\n      <th>wrong</th>\n      <th>x</th>\n      <th>y</th>\n      <th>ya</th>\n      <th>year</th>\n      <th>yes</th>\n      <th>yo</th>\n      <th>young</th>\n    </tr>\n  </thead>\n  <tbody>\n    <tr>\n      <th>0</th>\n      <td>0.0</td>\n      <td>0.0</td>\n      <td>0.0</td>\n      <td>0.0</td>\n      <td>0.339891</td>\n      <td>0.0</td>\n      <td>0.0</td>\n      <td>0.0</td>\n      <td>0.000000</td>\n      <td>0.000000</td>\n      <td>...</td>\n      <td>0.0</td>\n      <td>0.0</td>\n      <td>0.000000</td>\n      <td>0.0</td>\n      <td>0.0</td>\n      <td>0.0</td>\n      <td>0.0</td>\n      <td>0.0</td>\n      <td>0.000000</td>\n      <td>0.000000</td>\n    </tr>\n    <tr>\n      <th>1</th>\n      <td>0.0</td>\n      <td>0.0</td>\n      <td>0.0</td>\n      <td>0.0</td>\n      <td>0.000000</td>\n      <td>0.0</td>\n      <td>0.0</td>\n      <td>0.0</td>\n      <td>0.000000</td>\n      <td>0.000000</td>\n      <td>...</td>\n      <td>0.0</td>\n      <td>0.0</td>\n      <td>0.140815</td>\n      <td>0.0</td>\n      <td>0.0</td>\n      <td>0.0</td>\n      <td>0.0</td>\n      <td>0.0</td>\n      <td>0.223397</td>\n      <td>0.000000</td>\n    </tr>\n    <tr>\n      <th>2</th>\n      <td>0.0</td>\n      <td>0.0</td>\n      <td>0.0</td>\n      <td>0.0</td>\n      <td>0.000000</td>\n      <td>0.0</td>\n      <td>0.0</td>\n      <td>0.0</td>\n      <td>0.000000</td>\n      <td>0.000000</td>\n      <td>...</td>\n      <td>0.0</td>\n      <td>0.0</td>\n      <td>0.000000</td>\n      <td>0.0</td>\n      <td>0.0</td>\n      <td>0.0</td>\n      <td>0.0</td>\n      <td>0.0</td>\n      <td>0.000000</td>\n      <td>0.000000</td>\n    </tr>\n    <tr>\n      <th>3</th>\n      <td>0.0</td>\n      <td>0.0</td>\n      <td>0.0</td>\n      <td>0.0</td>\n      <td>0.000000</td>\n      <td>0.0</td>\n      <td>0.0</td>\n      <td>0.0</td>\n      <td>0.000000</td>\n      <td>0.000000</td>\n      <td>...</td>\n      <td>0.0</td>\n      <td>0.0</td>\n      <td>0.000000</td>\n      <td>0.0</td>\n      <td>0.0</td>\n      <td>0.0</td>\n      <td>0.0</td>\n      <td>0.0</td>\n      <td>0.000000</td>\n      <td>0.000000</td>\n    </tr>\n    <tr>\n      <th>4</th>\n      <td>0.0</td>\n      <td>0.0</td>\n      <td>0.0</td>\n      <td>0.0</td>\n      <td>0.000000</td>\n      <td>0.0</td>\n      <td>0.0</td>\n      <td>0.0</td>\n      <td>0.000000</td>\n      <td>0.000000</td>\n      <td>...</td>\n      <td>0.0</td>\n      <td>0.0</td>\n      <td>0.000000</td>\n      <td>0.0</td>\n      <td>0.0</td>\n      <td>0.0</td>\n      <td>0.0</td>\n      <td>0.0</td>\n      <td>0.000000</td>\n      <td>0.000000</td>\n    </tr>\n    <tr>\n      <th>...</th>\n      <td>...</td>\n      <td>...</td>\n      <td>...</td>\n      <td>...</td>\n      <td>...</td>\n      <td>...</td>\n      <td>...</td>\n      <td>...</td>\n      <td>...</td>\n      <td>...</td>\n      <td>...</td>\n      <td>...</td>\n      <td>...</td>\n      <td>...</td>\n      <td>...</td>\n      <td>...</td>\n      <td>...</td>\n      <td>...</td>\n      <td>...</td>\n      <td>...</td>\n      <td>...</td>\n    </tr>\n    <tr>\n      <th>12748</th>\n      <td>0.0</td>\n      <td>0.0</td>\n      <td>0.0</td>\n      <td>0.0</td>\n      <td>0.000000</td>\n      <td>0.0</td>\n      <td>0.0</td>\n      <td>0.0</td>\n      <td>0.000000</td>\n      <td>0.154634</td>\n      <td>...</td>\n      <td>0.0</td>\n      <td>0.0</td>\n      <td>0.000000</td>\n      <td>0.0</td>\n      <td>0.0</td>\n      <td>0.0</td>\n      <td>0.0</td>\n      <td>0.0</td>\n      <td>0.000000</td>\n      <td>0.000000</td>\n    </tr>\n    <tr>\n      <th>12749</th>\n      <td>0.0</td>\n      <td>0.0</td>\n      <td>0.0</td>\n      <td>0.0</td>\n      <td>0.000000</td>\n      <td>0.0</td>\n      <td>0.0</td>\n      <td>0.0</td>\n      <td>0.000000</td>\n      <td>0.000000</td>\n      <td>...</td>\n      <td>0.0</td>\n      <td>0.0</td>\n      <td>0.000000</td>\n      <td>0.0</td>\n      <td>0.0</td>\n      <td>0.0</td>\n      <td>0.0</td>\n      <td>0.0</td>\n      <td>0.000000</td>\n      <td>0.000000</td>\n    </tr>\n    <tr>\n      <th>12750</th>\n      <td>0.0</td>\n      <td>0.0</td>\n      <td>0.0</td>\n      <td>0.0</td>\n      <td>0.000000</td>\n      <td>0.0</td>\n      <td>0.0</td>\n      <td>0.0</td>\n      <td>0.000000</td>\n      <td>0.000000</td>\n      <td>...</td>\n      <td>0.0</td>\n      <td>0.0</td>\n      <td>0.000000</td>\n      <td>0.0</td>\n      <td>0.0</td>\n      <td>0.0</td>\n      <td>0.0</td>\n      <td>0.0</td>\n      <td>0.000000</td>\n      <td>0.000000</td>\n    </tr>\n    <tr>\n      <th>12751</th>\n      <td>0.0</td>\n      <td>0.0</td>\n      <td>0.0</td>\n      <td>0.0</td>\n      <td>0.000000</td>\n      <td>0.0</td>\n      <td>0.0</td>\n      <td>0.0</td>\n      <td>0.000000</td>\n      <td>0.000000</td>\n      <td>...</td>\n      <td>0.0</td>\n      <td>0.0</td>\n      <td>0.000000</td>\n      <td>0.0</td>\n      <td>0.0</td>\n      <td>0.0</td>\n      <td>0.0</td>\n      <td>0.0</td>\n      <td>0.000000</td>\n      <td>0.269422</td>\n    </tr>\n    <tr>\n      <th>12752</th>\n      <td>0.0</td>\n      <td>0.0</td>\n      <td>0.0</td>\n      <td>0.0</td>\n      <td>0.000000</td>\n      <td>0.0</td>\n      <td>0.0</td>\n      <td>0.0</td>\n      <td>0.146763</td>\n      <td>0.000000</td>\n      <td>...</td>\n      <td>0.0</td>\n      <td>0.0</td>\n      <td>0.000000</td>\n      <td>0.0</td>\n      <td>0.0</td>\n      <td>0.0</td>\n      <td>0.0</td>\n      <td>0.0</td>\n      <td>0.000000</td>\n      <td>0.000000</td>\n    </tr>\n  </tbody>\n</table>\n<p>12753 rows × 422 columns</p>\n</div>"
     },
     "metadata": {},
     "execution_count": 30
    }
   ],
   "source": [
    "# Instantiate vectorizer object\n",
    "tfidf_vect = TfidfVectorizer(tokenizer=tokenize, min_df=0.03, \n",
    "                        max_df=0.28)\n",
    "\n",
    "# Create a vocabulary and get word counts per document\n",
    "# Similiar to fit_predict\n",
    "dtm = tfidf_vect.fit_transform(spotify['clean_lyrics'])\n",
    "\n",
    "# View Feature Matrix as DataFrame\n",
    "dtm = pd.DataFrame(data=dtm.todense(), columns=tfidf_vect.get_feature_names())\n",
    "dtm"
   ]
  },
  {
   "cell_type": "code",
   "execution_count": 31,
   "metadata": {},
   "outputs": [],
   "source": [
    "dtm.to_csv('../data/dtm.csv', index=False)"
   ]
  },
  {
   "cell_type": "code",
   "execution_count": 32,
   "id": "6653d8a4",
   "metadata": {},
   "outputs": [],
   "source": [
    "# Fit on DTM\n",
    "nn = NearestNeighbors(n_neighbors=6, algorithm='auto').fit(dtm)"
   ]
  },
  {
   "cell_type": "code",
   "execution_count": 33,
   "id": "d6e1c6e2",
   "metadata": {},
   "outputs": [],
   "source": [
    "model_filename = '../ml/nlp_model' \n",
    "joblib.dump(nn, open(model_filename, 'wb'))"
   ]
  },
  {
   "cell_type": "code",
   "execution_count": 34,
   "id": "6aca02c6",
   "metadata": {},
   "outputs": [],
   "source": [
    "def favorite_track(name, artist):\n",
    "    \"\"\"\n",
    "    Receive the name and artist of a song then return the 5 most similar song\n",
    "    --------\n",
    "    Keyword arg:\n",
    "    name -- name of the song (string)\n",
    "    artist -- artist of the song (string)\n",
    "    \"\"\"\n",
    "    \n",
    "    # find the song index\n",
    "    selected_song_index = spotify[(spotify['track_name']==name) & (spotify['track_artist']==artist)].index.tolist()\n",
    "    selected_song = [dtm.iloc[selected_song_index[0]].values] # selected_song_index return a list of 1\n",
    "    \n",
    "    # return a list of indexes of similar songs\n",
    "    _, neigh_index = nn.kneighbors(selected_song)\n",
    "    \n",
    "    # add similar songs to a list \n",
    "    song_list = []\n",
    "    for i in neigh_index[0][1:]:\n",
    "        song_list.append(f\"{spotify['track_name'][i]} by {spotify['track_artist'][i]}\")\n",
    "    return song_list"
   ]
  },
  {
   "cell_type": "code",
   "execution_count": 35,
   "id": "a5558500",
   "metadata": {},
   "outputs": [
    {
     "output_type": "execute_result",
     "data": {
      "text/plain": [
       "['We like to Party! by Vengaboys',\n",
       " 'Gyal You A Party Animal by Charly Black',\n",
       " 'Not Your Birthday by Allstar Weekend',\n",
       " 'Party All the Time by Eddie Murphy',\n",
       " '1999 by Prince']"
      ]
     },
     "metadata": {},
     "execution_count": 35
    }
   ],
   "source": [
    "favorite_track('Dumb Litty', 'KARD')"
   ]
  },
  {
   "cell_type": "markdown",
   "id": "5e0ab879",
   "metadata": {},
   "source": [
    "## Visualization"
   ]
  },
  {
   "cell_type": "code",
   "execution_count": 51,
   "id": "12805a5f",
   "metadata": {},
   "outputs": [],
   "source": [
    "from wordcloud import WordCloud\n",
    "import matplotlib.pyplot as plt"
   ]
  },
  {
   "cell_type": "code",
   "execution_count": 56,
   "id": "bd40a830",
   "metadata": {},
   "outputs": [],
   "source": [
    "a = WordCloud(background_color='white', random_state=37).generate(spotify['clean_lyrics'][0])"
   ]
  },
  {
   "cell_type": "code",
   "execution_count": 57,
   "id": "e4e1f984",
   "metadata": {},
   "outputs": [
    {
     "data": {
      "image/png": "[encoded data removed]",
      "text/plain": [
       "<Figure size 432x288 with 1 Axes>"
      ]
     },
     "metadata": {
      "needs_background": "light"
     },
     "output_type": "display_data"
    }
   ],
   "source": [
    "plt.imshow(a, interpolation='bilinear')\n",
    "plt.axis('off')\n",
    "plt.show()"
   ]
  }
 ],
 "metadata": {
  "kernelspec": {
   "name": "python3",
   "display_name": "Python 3.8.5 64-bit ('Spotify-Recommendation-U2JoDukR': pipenv)"
  },
  "language_info": {
   "codemirror_mode": {
    "name": "ipython",
    "version": 3
   },
   "file_extension": ".py",
   "mimetype": "text/x-python",
   "name": "python",
   "nbconvert_exporter": "python",
   "pygments_lexer": "ipython3",
   "version": "3.8.5"
  },
  "interpreter": {
   "hash": "7fec154cbcf52be80755f51877971d41d053a2a2ea4e0948df4bc502044eb0e5"
  }
 },
 "nbformat": 4,
 "nbformat_minor": 5
}